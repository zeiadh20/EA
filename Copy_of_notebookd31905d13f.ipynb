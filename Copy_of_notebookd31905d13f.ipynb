{
  "metadata": {
    "kernelspec": {
      "language": "python",
      "display_name": "Python 3",
      "name": "python3"
    },
    "language_info": {
      "name": "python",
      "version": "3.10.13",
      "mimetype": "text/x-python",
      "codemirror_mode": {
        "name": "ipython",
        "version": 3
      },
      "pygments_lexer": "ipython3",
      "nbconvert_exporter": "python",
      "file_extension": ".py"
    },
    "kaggle": {
      "accelerator": "nvidiaTeslaT4",
      "dataSources": [],
      "dockerImageVersionId": 30699,
      "isInternetEnabled": true,
      "language": "python",
      "sourceType": "notebook",
      "isGpuEnabled": true
    },
    "colab": {
      "provenance": [],
      "include_colab_link": true
    }
  },
  "nbformat_minor": 0,
  "nbformat": 4,
  "cells": [
    {
      "cell_type": "markdown",
      "metadata": {
        "id": "view-in-github",
        "colab_type": "text"
      },
      "source": [
        "<a href=\"https://colab.research.google.com/github/zeiadh20/EA/blob/main/Copy_of_notebookd31905d13f.ipynb\" target=\"_parent\"><img src=\"https://colab.research.google.com/assets/colab-badge.svg\" alt=\"Open In Colab\"/></a>"
      ]
    },
    {
      "cell_type": "code",
      "source": [
        "# This Python 3 environment comes with many helpful analytics libraries installed\n",
        "# It is defined by the kaggle/python Docker image: https://github.com/kaggle/docker-python\n",
        "# For example, here's several helpful packages to load\n",
        "\n",
        "import numpy as np # linear algebra\n",
        "import pandas as pd # data processing, CSV file I/O (e.g. pd.read_csv)\n",
        "import random\n",
        "import tensorflow as tf\n",
        "\n",
        "# Input data files are available in the read-only \"../input/\" directory\n",
        "# For example, running this (by clicking run or pressing Shift+Enter) will list all files under the input directory\n",
        "\n",
        "import os\n",
        "for dirname, _, filenames in os.walk('/kaggle/input'):\n",
        "    for filename in filenames:\n",
        "        print(os.path.join(dirname, filename))\n",
        "\n",
        "# You can write up to 20GB to the current directory (/kaggle/working/) that gets preserved as output when you create a version using \"Save & Run All\"\n",
        "# You can also write temporary files to /kaggle/temp/, but they won't be saved outside of the current session"
      ],
      "metadata": {
        "_uuid": "8f2839f25d086af736a60e9eeb907d3b93b6e0e5",
        "_cell_guid": "b1076dfc-b9ad-4769-8c92-a6c4dae69d19",
        "execution": {
          "iopub.status.busy": "2024-05-10T23:49:44.90804Z",
          "iopub.execute_input": "2024-05-10T23:49:44.908614Z",
          "iopub.status.idle": "2024-05-10T23:49:59.581942Z",
          "shell.execute_reply.started": "2024-05-10T23:49:44.90859Z",
          "shell.execute_reply": "2024-05-10T23:49:59.580987Z"
        },
        "trusted": true,
        "id": "Ka6PuVuqlDPj"
      },
      "execution_count": null,
      "outputs": []
    },
    {
      "cell_type": "code",
      "source": [
        "# Define Gomoku game mechanics\n",
        "BOARD_SIZE = 15\n",
        "WINNING_LENGTH = 5\n",
        "EMPTY = 0\n",
        "PLAYER_X = 1\n",
        "PLAYER_O = 2"
      ],
      "metadata": {
        "execution": {
          "iopub.status.busy": "2024-05-10T23:49:59.583929Z",
          "iopub.execute_input": "2024-05-10T23:49:59.584622Z",
          "iopub.status.idle": "2024-05-10T23:49:59.589867Z",
          "shell.execute_reply.started": "2024-05-10T23:49:59.584581Z",
          "shell.execute_reply": "2024-05-10T23:49:59.58884Z"
        },
        "trusted": true,
        "id": "RnBS3Jm6lDPm"
      },
      "execution_count": null,
      "outputs": []
    },
    {
      "cell_type": "code",
      "source": [
        "# Define neural network architecture\n",
        "class GomokuNeuralNetwork(tf.keras.Model):\n",
        "    def __init__(self):\n",
        "        super(GomokuNeuralNetwork, self).__init__()\n",
        "        self.conv1 = tf.keras.layers.Conv2D(32, (3, 3), activation='relu', input_shape=(BOARD_SIZE, BOARD_SIZE, 1))\n",
        "        self.flatten = tf.keras.layers.Flatten()\n",
        "        self.dense1 = tf.keras.layers.Dense(128, activation='relu')\n",
        "        self.dense2 = tf.keras.layers.Dense(BOARD_SIZE**2, activation='softmax')\n",
        "\n",
        "    def call(self, inputs):\n",
        "        x = self.conv1(inputs)\n",
        "        x = self.flatten(x)\n",
        "        x = self.dense1(x)\n",
        "        return self.dense2(x)"
      ],
      "metadata": {
        "execution": {
          "iopub.status.busy": "2024-05-11T00:03:13.43159Z",
          "iopub.execute_input": "2024-05-11T00:03:13.432286Z",
          "iopub.status.idle": "2024-05-11T00:03:13.439131Z",
          "shell.execute_reply.started": "2024-05-11T00:03:13.432254Z",
          "shell.execute_reply": "2024-05-11T00:03:13.43811Z"
        },
        "trusted": true,
        "id": "8WYb1zGalDPn"
      },
      "execution_count": null,
      "outputs": []
    },
    {
      "cell_type": "code",
      "source": [
        "# Genetic Algorithm parameters\n",
        "population_size = 10\n",
        "mutation_rate = 0.1\n",
        "\n",
        "# Initialize population of players\n",
        "players = [GomokuNeuralNetwork() for _ in range(population_size)]"
      ],
      "metadata": {
        "execution": {
          "iopub.status.busy": "2024-05-11T02:35:36.100459Z",
          "iopub.execute_input": "2024-05-11T02:35:36.100814Z",
          "iopub.status.idle": "2024-05-11T02:35:36.161561Z",
          "shell.execute_reply.started": "2024-05-11T02:35:36.100786Z",
          "shell.execute_reply": "2024-05-11T02:35:36.160637Z"
        },
        "trusted": true,
        "id": "tk24U8colDPn"
      },
      "execution_count": null,
      "outputs": []
    },
    {
      "cell_type": "code",
      "source": [
        "# Define evaluation function\n",
        "def evaluate(player):\n",
        "    # Simulate games between the player and a random opponent and return win rate\n",
        "    wins = 0\n",
        "    total_games = 3\n",
        "    for _ in range(total_games):\n",
        "        random_player = random.choice(players)  # Select a random opponent\n",
        "        winner = play_game(player, random_player)\n",
        "        if winner == PLAYER_X:\n",
        "            wins += 1\n",
        "    return wins / total_games\n"
      ],
      "metadata": {
        "execution": {
          "iopub.status.busy": "2024-05-11T00:53:46.985439Z",
          "iopub.execute_input": "2024-05-11T00:53:46.98615Z",
          "iopub.status.idle": "2024-05-11T00:53:46.991259Z",
          "shell.execute_reply.started": "2024-05-11T00:53:46.986119Z",
          "shell.execute_reply": "2024-05-11T00:53:46.990323Z"
        },
        "trusted": true,
        "id": "ZOxoHocTlDPn"
      },
      "execution_count": null,
      "outputs": []
    },
    {
      "cell_type": "code",
      "source": [
        "def evaluate1(player):\n",
        "    # Simulate games between the player and all other players and return win rate against each player\n",
        "    wins_count = 0\n",
        "    total_games = 0\n",
        "    for opponent in players:\n",
        "        if opponent != player:  # Ensure players are different\n",
        "            for _ in range(3):  # Play 3 games against each opponent\n",
        "                winner = play_game(player, opponent)\n",
        "                total_games += 1\n",
        "                if winner == PLAYER_X:\n",
        "                    wins_count += 1\n",
        "    return wins_count / total_games if total_games > 0 else 0\n",
        "\n",
        "# Example usage:\n",
        "for player in players:\n",
        "    win_rate = evaluate1(player)\n",
        "    print(f\"Win rate for {player}: {win_rate}\")\n"
      ],
      "metadata": {
        "execution": {
          "iopub.status.busy": "2024-05-11T00:57:12.135663Z",
          "iopub.execute_input": "2024-05-11T00:57:12.136017Z",
          "iopub.status.idle": "2024-05-11T00:59:17.316746Z",
          "shell.execute_reply.started": "2024-05-11T00:57:12.135989Z",
          "shell.execute_reply": "2024-05-11T00:59:17.315716Z"
        },
        "trusted": true,
        "id": "vBuU2sSNlDPo"
      },
      "execution_count": null,
      "outputs": []
    },
    {
      "cell_type": "code",
      "source": [
        "def play_game(player1, player2):\n",
        "    # Simulate a game of Gomoku between two players\n",
        "    board = np.zeros((BOARD_SIZE, BOARD_SIZE), dtype=int)\n",
        "    current_player = PLAYER_X\n",
        "    while True:\n",
        "        # Get move from current player\n",
        "        if current_player == PLAYER_X:\n",
        "            move = select_move(player1, board)\n",
        "        else:\n",
        "            move = select_move(player2, board)\n",
        "        # Make move\n",
        "        board[move] = current_player\n",
        "        # Check for winner\n",
        "        if check_winner(board, move, current_player):\n",
        "            return current_player  # Return the winning player\n",
        "        # Check for draw\n",
        "        if np.all(board != 0):\n",
        "            return None  # Return None for draw\n",
        "        # Switch players\n",
        "        current_player = PLAYER_O if current_player == PLAYER_X else PLAYER_X\n"
      ],
      "metadata": {
        "execution": {
          "iopub.status.busy": "2024-05-11T00:17:30.193631Z",
          "iopub.execute_input": "2024-05-11T00:17:30.194008Z",
          "iopub.status.idle": "2024-05-11T00:17:30.202717Z",
          "shell.execute_reply.started": "2024-05-11T00:17:30.193978Z",
          "shell.execute_reply": "2024-05-11T00:17:30.200993Z"
        },
        "trusted": true,
        "id": "dyHcb2A6lDPo"
      },
      "execution_count": null,
      "outputs": []
    },
    {
      "cell_type": "code",
      "source": [
        "# # Define game simulation function\n",
        "# def play_game(player1, player2):\n",
        "#     # Simulate a game of Gomoku between two players\n",
        "#     board = np.zeros((BOARD_SIZE, BOARD_SIZE), dtype=int)\n",
        "#     current_player = PLAYER_X\n",
        "#     while True:\n",
        "#         # Get move from current player\n",
        "#         if current_player == PLAYER_X:\n",
        "#             move = select_move(player1, board)\n",
        "#         else:\n",
        "#             move = select_move(player2, board)\n",
        "#         # Make move\n",
        "#         board[move] = current_player\n",
        "#         # Check for winner\n",
        "#         if check_winner(board, move, current_player):\n",
        "#             return current_player\n",
        "#         # Switch players\n",
        "#         current_player = PLAYER_O if current_player == PLAYER_X else PLAYER_X"
      ],
      "metadata": {
        "execution": {
          "iopub.status.busy": "2024-05-10T23:49:59.704387Z",
          "iopub.execute_input": "2024-05-10T23:49:59.70463Z",
          "iopub.status.idle": "2024-05-10T23:49:59.715096Z",
          "shell.execute_reply.started": "2024-05-10T23:49:59.704609Z",
          "shell.execute_reply": "2024-05-10T23:49:59.714203Z"
        },
        "trusted": true,
        "id": "5YOjY6rflDPp"
      },
      "execution_count": null,
      "outputs": []
    },
    {
      "cell_type": "code",
      "source": [
        "def select_move(player, board):\n",
        "    # Use neural network to select move\n",
        "    input_board = np.expand_dims(np.expand_dims(board, axis=0), axis=-1)\n",
        "    probabilities = player(input_board).numpy().reshape((BOARD_SIZE, BOARD_SIZE))\n",
        "    valid_moves = np.where(board == EMPTY)\n",
        "    valid_probabilities = probabilities[valid_moves]\n",
        "\n",
        "    # Check if all probabilities are zero\n",
        "    if np.sum(valid_probabilities) == 0:\n",
        "        # Select a random move\n",
        "        move_index = np.random.choice(len(valid_moves[0]))\n",
        "    else:\n",
        "        # Normalize probabilities\n",
        "        valid_probabilities /= np.sum(valid_probabilities)\n",
        "        # Select move based on probabilities\n",
        "        move_index = np.random.choice(len(valid_probabilities), p=valid_probabilities)\n",
        "\n",
        "    move = (valid_moves[0][move_index], valid_moves[1][move_index])\n",
        "    return move\n"
      ],
      "metadata": {
        "execution": {
          "iopub.status.busy": "2024-05-10T23:49:59.716264Z",
          "iopub.execute_input": "2024-05-10T23:49:59.716519Z",
          "iopub.status.idle": "2024-05-10T23:49:59.728111Z",
          "shell.execute_reply.started": "2024-05-10T23:49:59.716498Z",
          "shell.execute_reply": "2024-05-10T23:49:59.727122Z"
        },
        "trusted": true,
        "id": "wI_DZogglDPp"
      },
      "execution_count": null,
      "outputs": []
    },
    {
      "cell_type": "code",
      "source": [
        "# Define function to check for winner\n",
        "def check_winner(board, move, player):\n",
        "    row, col = move\n",
        "    directions = [(1, 0), (0, 1), (1, 1), (1, -1)]\n",
        "    for dr, dc in directions:\n",
        "        count = 1\n",
        "        for i in range(1, WINNING_LENGTH):\n",
        "            r = row + i * dr\n",
        "            c = col + i * dc\n",
        "            if 0 <= r < BOARD_SIZE and 0 <= c < BOARD_SIZE and board[r, c] == player:\n",
        "                count += 1\n",
        "            else:\n",
        "                break\n",
        "        for i in range(1, WINNING_LENGTH):\n",
        "            r = row - i * dr\n",
        "            c = col - i * dc\n",
        "            if 0 <= r < BOARD_SIZE and 0 <= c < BOARD_SIZE and board[r, c] == player:\n",
        "                count += 1\n",
        "            else:\n",
        "                break\n",
        "        if count >= WINNING_LENGTH:\n",
        "            return True\n",
        "    return False"
      ],
      "metadata": {
        "execution": {
          "iopub.status.busy": "2024-05-10T23:50:04.223773Z",
          "iopub.execute_input": "2024-05-10T23:50:04.224168Z",
          "iopub.status.idle": "2024-05-10T23:50:04.232225Z",
          "shell.execute_reply.started": "2024-05-10T23:50:04.224137Z",
          "shell.execute_reply": "2024-05-10T23:50:04.231218Z"
        },
        "trusted": true,
        "id": "gvH1vgSolDPq"
      },
      "execution_count": null,
      "outputs": []
    },
    {
      "cell_type": "code",
      "source": [
        "def crossover(parent1, parent2):\n",
        "    # Create child models with the same architecture as the parents\n",
        "    child1 = GomokuNeuralNetwork()\n",
        "    child2 = GomokuNeuralNetwork()\n",
        "\n",
        "    # Build child models to initialize their weights\n",
        "    _ = child1(np.zeros((1, BOARD_SIZE, BOARD_SIZE, 1)))  # Use a dummy input to build the model\n",
        "    _ = child2(np.zeros((1, BOARD_SIZE, BOARD_SIZE, 1)))  # Use a dummy input to build the model\n",
        "\n",
        "    # Copy weights from parents to children\n",
        "    for i, (layer1, layer2) in enumerate(zip(parent1.layers, parent2.layers)):\n",
        "        if isinstance(layer1, tf.keras.layers.Conv2D):\n",
        "            child1.layers[i].set_weights(layer1.get_weights())\n",
        "            child2.layers[i].set_weights(layer2.get_weights())\n",
        "        elif isinstance(layer1, tf.keras.layers.Dense):\n",
        "            child1.layers[i].set_weights(layer1.get_weights())\n",
        "            child2.layers[i].set_weights(layer2.get_weights())\n",
        "\n",
        "    return child1, child2\n"
      ],
      "metadata": {
        "execution": {
          "iopub.status.busy": "2024-05-10T23:50:05.095862Z",
          "iopub.execute_input": "2024-05-10T23:50:05.096233Z",
          "iopub.status.idle": "2024-05-10T23:50:05.103811Z",
          "shell.execute_reply.started": "2024-05-10T23:50:05.096204Z",
          "shell.execute_reply": "2024-05-10T23:50:05.102893Z"
        },
        "trusted": true,
        "id": "DYNxnvnKlDPq"
      },
      "execution_count": null,
      "outputs": []
    },
    {
      "cell_type": "code",
      "source": [
        "# Define mutation function\n",
        "def mutate(child, mutation_rate):\n",
        "    for layer in child.layers:\n",
        "        if isinstance(layer, tf.keras.layers.Dense):\n",
        "            mutation_mask = np.random.rand(*layer.get_weights()[0].shape) < mutation_rate\n",
        "            layer.set_weights([layer.get_weights()[0] + mutation_mask * np.random.randn(*layer.get_weights()[0].shape),\n",
        "                                layer.get_weights()[1]])\n",
        "    return child"
      ],
      "metadata": {
        "execution": {
          "iopub.status.busy": "2024-05-10T23:50:05.805502Z",
          "iopub.execute_input": "2024-05-10T23:50:05.805862Z",
          "iopub.status.idle": "2024-05-10T23:50:05.813045Z",
          "shell.execute_reply.started": "2024-05-10T23:50:05.805834Z",
          "shell.execute_reply": "2024-05-10T23:50:05.81167Z"
        },
        "trusted": true,
        "id": "2HGpe4HTlDPr"
      },
      "execution_count": null,
      "outputs": []
    },
    {
      "cell_type": "code",
      "source": [
        "def tournament_selection(players, fitness_scores, tournament_size):\n",
        "    tournament_indices = np.random.choice(range(len(players)), size=tournament_size, replace=False)\n",
        "    tournament_players = [players[i] for i in tournament_indices]\n",
        "    tournament_fitness_scores = [fitness_scores[i] for i in tournament_indices]\n",
        "    return tournament_players[np.argmax(tournament_fitness_scores)]"
      ],
      "metadata": {
        "execution": {
          "iopub.status.busy": "2024-05-10T23:50:08.365997Z",
          "iopub.execute_input": "2024-05-10T23:50:08.366366Z",
          "iopub.status.idle": "2024-05-10T23:50:08.373061Z",
          "shell.execute_reply.started": "2024-05-10T23:50:08.366338Z",
          "shell.execute_reply": "2024-05-10T23:50:08.372046Z"
        },
        "trusted": true,
        "id": "ChrSnaLalDPs"
      },
      "execution_count": null,
      "outputs": []
    },
    {
      "cell_type": "code",
      "source": [
        "generations = 30\n",
        "count=0\n",
        "for generation in range(generations):\n",
        "    # Evaluate fitness of each player\n",
        "    fitness_scores = np.array([evaluate1(player) for player in players])\n",
        "    count+=1\n",
        "    print(f\"Generation {count} Done\")\n",
        "    # Select parents for crossover\n",
        "    parent_indices = np.random.choice(range(population_size), size=population_size, replace=True)\n",
        "    # Create offspring by crossover and mutation\n",
        "    for i in range(0, population_size, 2):\n",
        "        parent1 = tournament_selection(players, fitness_scores, tournament_size=3)\n",
        "        parent2 = tournament_selection(players, fitness_scores, tournament_size=3)\n",
        "\n",
        "        child1, child2 = crossover(parent1, parent2)\n",
        "\n",
        "        # Perform mutation\n",
        "        child1 = mutate(child1, mutation_rate)\n",
        "        child2 = mutate(child2, mutation_rate)\n",
        "\n",
        "        # Replace parents with offspring\n",
        "        players[i] = child1\n",
        "        players[i+1] = child2"
      ],
      "metadata": {
        "execution": {
          "iopub.status.busy": "2024-05-11T01:27:52.5229Z",
          "iopub.execute_input": "2024-05-11T01:27:52.523972Z",
          "iopub.status.idle": "2024-05-11T02:31:00.02399Z",
          "shell.execute_reply.started": "2024-05-11T01:27:52.523938Z",
          "shell.execute_reply": "2024-05-11T02:31:00.023054Z"
        },
        "trusted": true,
        "id": "rIENKYvalDPs"
      },
      "execution_count": null,
      "outputs": []
    },
    {
      "cell_type": "code",
      "source": [
        "\n",
        "# # Evaluate best player against a random opponent\n",
        "# best_player = max(players, key=evaluate1)\n",
        "# random_player = GomokuNeuralNetwork()\n",
        "# print(\"Win rate:\", evaluate1(best_player))\n"
      ],
      "metadata": {
        "execution": {
          "iopub.status.busy": "2024-05-11T02:41:55.64311Z",
          "iopub.execute_input": "2024-05-11T02:41:55.643925Z",
          "iopub.status.idle": "2024-05-11T02:41:55.648454Z",
          "shell.execute_reply.started": "2024-05-11T02:41:55.643884Z",
          "shell.execute_reply": "2024-05-11T02:41:55.647271Z"
        },
        "trusted": true,
        "id": "YsRmq9bYlDPt"
      },
      "execution_count": null,
      "outputs": []
    },
    {
      "cell_type": "code",
      "source": [
        "print(best_player)"
      ],
      "metadata": {
        "execution": {
          "iopub.status.busy": "2024-05-11T02:41:56.902555Z",
          "iopub.execute_input": "2024-05-11T02:41:56.903385Z",
          "iopub.status.idle": "2024-05-11T02:41:56.907598Z",
          "shell.execute_reply.started": "2024-05-11T02:41:56.903351Z",
          "shell.execute_reply": "2024-05-11T02:41:56.906733Z"
        },
        "trusted": true,
        "id": "v8WiwSAwlDPt"
      },
      "execution_count": null,
      "outputs": []
    },
    {
      "cell_type": "code",
      "source": [
        "players.append(best_player)"
      ],
      "metadata": {
        "execution": {
          "iopub.status.busy": "2024-05-11T02:41:58.157708Z",
          "iopub.execute_input": "2024-05-11T02:41:58.158119Z",
          "iopub.status.idle": "2024-05-11T02:41:58.162468Z",
          "shell.execute_reply.started": "2024-05-11T02:41:58.158063Z",
          "shell.execute_reply": "2024-05-11T02:41:58.161459Z"
        },
        "trusted": true,
        "id": "_XuibFdflDPt"
      },
      "execution_count": null,
      "outputs": []
    },
    {
      "cell_type": "code",
      "source": [
        "print(players)"
      ],
      "metadata": {
        "execution": {
          "iopub.status.busy": "2024-05-11T02:42:00.458595Z",
          "iopub.execute_input": "2024-05-11T02:42:00.458961Z",
          "iopub.status.idle": "2024-05-11T02:42:00.463797Z",
          "shell.execute_reply.started": "2024-05-11T02:42:00.458934Z",
          "shell.execute_reply": "2024-05-11T02:42:00.46286Z"
        },
        "trusted": true,
        "id": "epsa4zhqlDPu"
      },
      "execution_count": null,
      "outputs": []
    },
    {
      "cell_type": "code",
      "source": [
        "best_player2 = max(players, key=evaluate1)\n",
        "random_player = GomokuNeuralNetwork()\n",
        "print(\"Win rate:\", evaluate1(best_player2))\n"
      ],
      "metadata": {
        "execution": {
          "iopub.status.busy": "2024-05-11T02:42:08.660444Z",
          "iopub.execute_input": "2024-05-11T02:42:08.660823Z",
          "iopub.status.idle": "2024-05-11T02:45:26.380117Z",
          "shell.execute_reply.started": "2024-05-11T02:42:08.660793Z",
          "shell.execute_reply": "2024-05-11T02:45:26.379047Z"
        },
        "trusted": true,
        "id": "Fe8C3lbClDPu"
      },
      "execution_count": null,
      "outputs": []
    },
    {
      "cell_type": "code",
      "source": [
        "print(best_player2)"
      ],
      "metadata": {
        "execution": {
          "iopub.status.busy": "2024-05-11T02:46:52.782772Z",
          "iopub.execute_input": "2024-05-11T02:46:52.783222Z",
          "iopub.status.idle": "2024-05-11T02:46:52.788583Z",
          "shell.execute_reply.started": "2024-05-11T02:46:52.783186Z",
          "shell.execute_reply": "2024-05-11T02:46:52.787634Z"
        },
        "trusted": true,
        "id": "29UF1LB0lDPu"
      },
      "execution_count": null,
      "outputs": []
    },
    {
      "cell_type": "code",
      "source": [
        "list=[]\n",
        "for a in players:\n",
        "    x= evaluate(a)\n",
        "    list.append(x)\n",
        "print(list)\n",
        "\n"
      ],
      "metadata": {
        "execution": {
          "iopub.status.busy": "2024-05-10T23:54:05.708021Z",
          "iopub.execute_input": "2024-05-10T23:54:05.708513Z",
          "iopub.status.idle": "2024-05-10T23:54:19.752533Z",
          "shell.execute_reply.started": "2024-05-10T23:54:05.70848Z",
          "shell.execute_reply": "2024-05-10T23:54:19.751397Z"
        },
        "trusted": true,
        "id": "_TjmqHKMlDPu"
      },
      "execution_count": null,
      "outputs": []
    },
    {
      "cell_type": "code",
      "source": [
        "# Get the weights of the best player\n",
        "best_player.get_weights()\n"
      ],
      "metadata": {
        "execution": {
          "iopub.status.busy": "2024-05-10T23:35:10.226788Z",
          "iopub.execute_input": "2024-05-10T23:35:10.227177Z",
          "iopub.status.idle": "2024-05-10T23:35:10.247799Z",
          "shell.execute_reply.started": "2024-05-10T23:35:10.227145Z",
          "shell.execute_reply": "2024-05-10T23:35:10.246942Z"
        },
        "trusted": true,
        "id": "0n6tiqkLlDPu"
      },
      "execution_count": null,
      "outputs": []
    },
    {
      "cell_type": "code",
      "source": [],
      "metadata": {
        "id": "Eg3qwWEYlDPv"
      },
      "execution_count": null,
      "outputs": []
    }
  ]
}